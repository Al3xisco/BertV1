{
 "cells": [
  {
   "cell_type": "code",
   "execution_count": 1,
   "metadata": {},
   "outputs": [
    {
     "name": "stdout",
     "output_type": "stream",
     "text": [
      "Requirement already satisfied: pandas==1.3.1 in c:\\users\\alexis\\desktop\\sistemaqabert\\data\\lib\\site-packages (1.3.1)\n",
      "Requirement already satisfied: pytz>=2017.3 in c:\\users\\alexis\\desktop\\sistemaqabert\\data\\lib\\site-packages (from pandas==1.3.1) (2021.3)\n",
      "Requirement already satisfied: python-dateutil>=2.7.3 in c:\\users\\alexis\\desktop\\sistemaqabert\\data\\lib\\site-packages (from pandas==1.3.1) (2.8.2)\n",
      "Requirement already satisfied: numpy>=1.17.3 in c:\\users\\alexis\\desktop\\sistemaqabert\\data\\lib\\site-packages (from pandas==1.3.1) (1.21.1)\n",
      "Requirement already satisfied: six>=1.5 in c:\\users\\alexis\\desktop\\sistemaqabert\\data\\lib\\site-packages (from python-dateutil>=2.7.3->pandas==1.3.1) (1.16.0)\n",
      "Requirement already satisfied: numpy==1.21.1 in c:\\users\\alexis\\desktop\\sistemaqabert\\data\\lib\\site-packages (1.21.1)\n"
     ]
    }
   ],
   "source": [
    "!pip3 install pandas==1.3.1\n",
    "!pip3 install numpy==1.21.1"
   ]
  },
  {
   "cell_type": "code",
   "execution_count": 2,
   "metadata": {},
   "outputs": [
    {
     "name": "stdout",
     "output_type": "stream",
     "text": [
      "Requirement already satisfied: pickle5 in c:\\users\\alexis\\desktop\\sistemaqabert\\data\\lib\\site-packages (0.0.12)\n"
     ]
    }
   ],
   "source": [
    "#for colab users and python<3.8\n",
    "!pip3 install pickle5\n",
    "import pickle5 as pickle\n",
    "\n",
    "#for python >= 3.8 RUN below command and comment above command\n",
    "#import pickle"
   ]
  },
  {
   "cell_type": "code",
   "execution_count": 3,
   "metadata": {},
   "outputs": [],
   "source": [
    "import pandas as pd\n",
    "import numpy as np"
   ]
  },
  {
   "cell_type": "code",
   "execution_count": 4,
   "metadata": {},
   "outputs": [],
   "source": [
    "# Accessing the research papers and data\n",
    "\n",
    "with open('C:/Users/Alexis/Desktop/SistemaQABert/metadata_sample2.pickle', 'rb') as f:\n",
    "  df_metadata = pickle.load(f)\n",
    "with open('C:/Users/Alexis/Desktop/SistemaQABert/json_pdf_sample2.pickle', 'rb') as f:\n",
    "  df_pdf = pickle.load(f)\n",
    "with open('C:/Users/Alexis/Desktop/SistemaQABert/json_pmc_sample2.pickle', 'rb') as f:\n",
    "  df_pmc = pickle.load(f)"
   ]
  },
  {
   "cell_type": "markdown",
   "metadata": {},
   "source": [
    "Muestreo y almacenamiento del conjunto de datos del curso\n"
   ]
  },
  {
   "cell_type": "code",
   "execution_count": 5,
   "metadata": {},
   "outputs": [],
   "source": [
    "#Merging the metadata and json pdf data\n",
    "#sha column of metadata and paper_id of json_pdf data are same identifier for each record\n",
    "df_merged = pd.merge(df_metadata,df_pdf,left_on='sha',right_on='paper_id',how='left').drop('paper_id',axis=1)"
   ]
  },
  {
   "cell_type": "code",
   "execution_count": 6,
   "metadata": {},
   "outputs": [
    {
     "data": {
      "text/html": [
       "<div>\n",
       "<style scoped>\n",
       "    .dataframe tbody tr th:only-of-type {\n",
       "        vertical-align: middle;\n",
       "    }\n",
       "\n",
       "    .dataframe tbody tr th {\n",
       "        vertical-align: top;\n",
       "    }\n",
       "\n",
       "    .dataframe thead th {\n",
       "        text-align: right;\n",
       "    }\n",
       "</style>\n",
       "<table border=\"1\" class=\"dataframe\">\n",
       "  <thead>\n",
       "    <tr style=\"text-align: right;\">\n",
       "      <th></th>\n",
       "      <th>cord_uid</th>\n",
       "      <th>sha</th>\n",
       "      <th>source_x</th>\n",
       "      <th>title</th>\n",
       "      <th>doi</th>\n",
       "      <th>pmcid</th>\n",
       "      <th>pubmed_id</th>\n",
       "      <th>license</th>\n",
       "      <th>abstract_x</th>\n",
       "      <th>publish_time</th>\n",
       "      <th>...</th>\n",
       "      <th>journal</th>\n",
       "      <th>mag_id</th>\n",
       "      <th>who_covidence_id</th>\n",
       "      <th>arxiv_id</th>\n",
       "      <th>pdf_json_files</th>\n",
       "      <th>pmc_json_files</th>\n",
       "      <th>url</th>\n",
       "      <th>s2_id</th>\n",
       "      <th>abstract_y</th>\n",
       "      <th>body_text</th>\n",
       "    </tr>\n",
       "  </thead>\n",
       "  <tbody>\n",
       "    <tr>\n",
       "      <th>0</th>\n",
       "      <td>bliggtp4</td>\n",
       "      <td>543c26359460283ea08a8ee1ada672deeab82863</td>\n",
       "      <td>Medline; PMC</td>\n",
       "      <td>Systemic steroids may enhance recovery from lo...</td>\n",
       "      <td>10.1002/alr.22848</td>\n",
       "      <td>PMC8427029</td>\n",
       "      <td>34132052</td>\n",
       "      <td>no-cc</td>\n",
       "      <td>NaN</td>\n",
       "      <td>2021-06-16</td>\n",
       "      <td>...</td>\n",
       "      <td>Int Forum Allergy Rhinol</td>\n",
       "      <td>NaN</td>\n",
       "      <td>NaN</td>\n",
       "      <td>NaN</td>\n",
       "      <td>document_parses/pdf_json/543c26359460283ea08a8...</td>\n",
       "      <td>document_parses/pmc_json/PMC8427029.xml.json</td>\n",
       "      <td>https://doi.org/10.1002/alr.22848; https://www...</td>\n",
       "      <td>235448953.0</td>\n",
       "      <td></td>\n",
       "      <td>Chemosensory dysfunction (CD) is among the mos...</td>\n",
       "    </tr>\n",
       "  </tbody>\n",
       "</table>\n",
       "<p>1 rows × 21 columns</p>\n",
       "</div>"
      ],
      "text/plain": [
       "   cord_uid                                       sha      source_x  \\\n",
       "0  bliggtp4  543c26359460283ea08a8ee1ada672deeab82863  Medline; PMC   \n",
       "\n",
       "                                               title                doi  \\\n",
       "0  Systemic steroids may enhance recovery from lo...  10.1002/alr.22848   \n",
       "\n",
       "        pmcid pubmed_id license abstract_x publish_time  ...  \\\n",
       "0  PMC8427029  34132052   no-cc        NaN   2021-06-16  ...   \n",
       "\n",
       "                    journal mag_id  who_covidence_id arxiv_id  \\\n",
       "0  Int Forum Allergy Rhinol    NaN               NaN      NaN   \n",
       "\n",
       "                                      pdf_json_files  \\\n",
       "0  document_parses/pdf_json/543c26359460283ea08a8...   \n",
       "\n",
       "                                 pmc_json_files  \\\n",
       "0  document_parses/pmc_json/PMC8427029.xml.json   \n",
       "\n",
       "                                                 url        s2_id  abstract_y  \\\n",
       "0  https://doi.org/10.1002/alr.22848; https://www...  235448953.0               \n",
       "\n",
       "                                           body_text  \n",
       "0  Chemosensory dysfunction (CD) is among the mos...  \n",
       "\n",
       "[1 rows x 21 columns]"
      ]
     },
     "execution_count": 6,
     "metadata": {},
     "output_type": "execute_result"
    }
   ],
   "source": [
    "df_merged.head(1)\n",
    "#abstract_x is the abstract from metadata and abstract_y is the abstract from json_pdf"
   ]
  },
  {
   "cell_type": "code",
   "execution_count": 6,
   "metadata": {},
   "outputs": [
    {
     "data": {
      "text/plain": [
       "(50000, 22)"
      ]
     },
     "execution_count": 6,
     "metadata": {},
     "output_type": "execute_result"
    }
   ],
   "source": [
    "#Lets merge the json_pmc data to the merged data too\n",
    "df_merged = pd.merge(df_merged,df_pmc,left_on='pmcid',right_on='paper_id',how='left').drop('paper_id',axis=1)\n",
    "df_merged.shape"
   ]
  },
  {
   "cell_type": "markdown",
   "metadata": {},
   "source": [
    "Limpieza y preprocesamiento de datos"
   ]
  },
  {
   "cell_type": "code",
   "execution_count": 7,
   "metadata": {},
   "outputs": [
    {
     "data": {
      "text/plain": [
       "(45475, 22)"
      ]
     },
     "execution_count": 7,
     "metadata": {},
     "output_type": "execute_result"
    }
   ],
   "source": [
    "df_merged[df_merged.abstract_x != df_merged.abstract_y].shape"
   ]
  },
  {
   "cell_type": "code",
   "execution_count": 8,
   "metadata": {},
   "outputs": [
    {
     "data": {
      "text/plain": [
       "(6924, 0)"
      ]
     },
     "execution_count": 8,
     "metadata": {},
     "output_type": "execute_result"
    }
   ],
   "source": [
    "# check metadata abstract column to see if null values exist\n",
    "df_merged.abstract_x.isnull().sum(),(df_merged.abstract_x == '').sum()"
   ]
  },
  {
   "cell_type": "code",
   "execution_count": 9,
   "metadata": {},
   "outputs": [
    {
     "data": {
      "text/plain": [
       "(3078, 13618)"
      ]
     },
     "execution_count": 9,
     "metadata": {},
     "output_type": "execute_result"
    }
   ],
   "source": [
    "# Check pdf_json abstract to see if null values exist\n",
    "df_merged.abstract_y.isnull().sum(),(df_merged.abstract_y == '').sum()"
   ]
  },
  {
   "cell_type": "markdown",
   "metadata": {},
   "source": [
    "Dado que el abstract_x de los metadatos es más fiable, lo utilizaremos pero sólo lo rellenaremos con el texto abstract_y cuando el valor de abstract_x sea nulo\n"
   ]
  },
  {
   "cell_type": "code",
   "execution_count": 10,
   "metadata": {},
   "outputs": [],
   "source": [
    "# Convert all columns to string and then replace abstract_y values\n",
    "#df = df.astype(str)\n",
    "df_merged[\"abstract_y\"] = df_merged[\"abstract_y\"].astype(str) \n",
    "df_merged['abstract_y'] = np.where(df_merged['abstract_y'].map(len) > 50, df_merged['abstract_y'], \"na\")"
   ]
  },
  {
   "cell_type": "code",
   "execution_count": 11,
   "metadata": {},
   "outputs": [
    {
     "data": {
      "text/html": [
       "<div>\n",
       "<style scoped>\n",
       "    .dataframe tbody tr th:only-of-type {\n",
       "        vertical-align: middle;\n",
       "    }\n",
       "\n",
       "    .dataframe tbody tr th {\n",
       "        vertical-align: top;\n",
       "    }\n",
       "\n",
       "    .dataframe thead th {\n",
       "        text-align: right;\n",
       "    }\n",
       "</style>\n",
       "<table border=\"1\" class=\"dataframe\">\n",
       "  <thead>\n",
       "    <tr style=\"text-align: right;\">\n",
       "      <th></th>\n",
       "      <th>cord_uid</th>\n",
       "      <th>sha</th>\n",
       "      <th>source_x</th>\n",
       "      <th>title</th>\n",
       "      <th>doi</th>\n",
       "      <th>pmcid</th>\n",
       "      <th>pubmed_id</th>\n",
       "      <th>license</th>\n",
       "      <th>abstract_x</th>\n",
       "      <th>publish_time</th>\n",
       "      <th>...</th>\n",
       "      <th>mag_id</th>\n",
       "      <th>who_covidence_id</th>\n",
       "      <th>arxiv_id</th>\n",
       "      <th>pdf_json_files</th>\n",
       "      <th>pmc_json_files</th>\n",
       "      <th>url</th>\n",
       "      <th>s2_id</th>\n",
       "      <th>abstract_y</th>\n",
       "      <th>body_text_x</th>\n",
       "      <th>body_text_y</th>\n",
       "    </tr>\n",
       "  </thead>\n",
       "  <tbody>\n",
       "    <tr>\n",
       "      <th>1</th>\n",
       "      <td>fb6myqtr</td>\n",
       "      <td>dd4ca66c448e89e4c841f29daf40a356ef67babe; f4d5...</td>\n",
       "      <td>Medline; PMC</td>\n",
       "      <td>Towards biomarkers for outcomes after pancreat...</td>\n",
       "      <td>10.1136/bmjopen-2020-039560</td>\n",
       "      <td>PMC7747584</td>\n",
       "      <td>33334830</td>\n",
       "      <td>cc-by-nc</td>\n",
       "      <td>INTRODUCTION: Ageing-related processes such as...</td>\n",
       "      <td>2020-12-17</td>\n",
       "      <td>...</td>\n",
       "      <td>NaN</td>\n",
       "      <td>NaN</td>\n",
       "      <td>NaN</td>\n",
       "      <td>document_parses/pdf_json/dd4ca66c448e89e4c841f...</td>\n",
       "      <td>document_parses/pmc_json/PMC7747584.xml.json</td>\n",
       "      <td>https://www.ncbi.nlm.nih.gov/pubmed/33334830/;...</td>\n",
       "      <td>229316922.0</td>\n",
       "      <td>na</td>\n",
       "      <td>NaN</td>\n",
       "      <td>The incidence of pancreatic cancer is increasi...</td>\n",
       "    </tr>\n",
       "    <tr>\n",
       "      <th>4</th>\n",
       "      <td>y6y235hw</td>\n",
       "      <td>303efcb8c5b2c65281962e16039caf0a18acda73; 89d8...</td>\n",
       "      <td>Elsevier; Medline; PMC</td>\n",
       "      <td>Steroid-associated osteonecrosis: Epidemiology...</td>\n",
       "      <td>10.1016/j.jot.2014.12.002</td>\n",
       "      <td>PMC5982361</td>\n",
       "      <td>30035041</td>\n",
       "      <td>cc-by-nc-nd</td>\n",
       "      <td>Steroid-associated osteonecrosis (SAON) is a c...</td>\n",
       "      <td>2015-01-13</td>\n",
       "      <td>...</td>\n",
       "      <td>NaN</td>\n",
       "      <td>NaN</td>\n",
       "      <td>NaN</td>\n",
       "      <td>document_parses/pdf_json/303efcb8c5b2c65281962...</td>\n",
       "      <td>document_parses/pmc_json/PMC5982361.xml.json</td>\n",
       "      <td>https://www.sciencedirect.com/science/article/...</td>\n",
       "      <td>49895240.0</td>\n",
       "      <td>na</td>\n",
       "      <td>NaN</td>\n",
       "      <td>Osteonecrosis (ON) is a disabling clinical dis...</td>\n",
       "    </tr>\n",
       "    <tr>\n",
       "      <th>5</th>\n",
       "      <td>wbkwp5aj</td>\n",
       "      <td>0f7125bdd3fabee194a3fbbed3893ad51644da03</td>\n",
       "      <td>Medline; PMC</td>\n",
       "      <td>First Surveillance of Violence against Women d...</td>\n",
       "      <td>10.3390/ijerph18073801</td>\n",
       "      <td>PMC8038697</td>\n",
       "      <td>33917305</td>\n",
       "      <td>cc-by</td>\n",
       "      <td>Violence against women emerges with tragic reg...</td>\n",
       "      <td>2021-04-06</td>\n",
       "      <td>...</td>\n",
       "      <td>NaN</td>\n",
       "      <td>NaN</td>\n",
       "      <td>NaN</td>\n",
       "      <td>document_parses/pdf_json/0f7125bdd3fabee194a3f...</td>\n",
       "      <td>document_parses/pmc_json/PMC8038697.xml.json</td>\n",
       "      <td>https://doi.org/10.3390/ijerph18073801; https:...</td>\n",
       "      <td>233208208.0</td>\n",
       "      <td>na</td>\n",
       "      <td>Episodes of violence against women emerge with...</td>\n",
       "      <td>Episodes of violence against women emerge with...</td>\n",
       "    </tr>\n",
       "    <tr>\n",
       "      <th>9</th>\n",
       "      <td>7w7bi56o</td>\n",
       "      <td>21e8f9dd0cfdccde3e8a49e711af9bc28cef958b</td>\n",
       "      <td>PMC</td>\n",
       "      <td>Definition of HCV Reactivation [Letter]</td>\n",
       "      <td>10.2147/imcrj.s342905</td>\n",
       "      <td>PMC8547488</td>\n",
       "      <td>34712063</td>\n",
       "      <td>cc-by-nc</td>\n",
       "      <td>NaN</td>\n",
       "      <td>2021-10-22</td>\n",
       "      <td>...</td>\n",
       "      <td>NaN</td>\n",
       "      <td>NaN</td>\n",
       "      <td>NaN</td>\n",
       "      <td>document_parses/pdf_json/21e8f9dd0cfdccde3e8a4...</td>\n",
       "      <td>document_parses/pmc_json/PMC8547488.xml.json</td>\n",
       "      <td>https://www.ncbi.nlm.nih.gov/pmc/articles/PMC8...</td>\n",
       "      <td>NaN</td>\n",
       "      <td>na</td>\n",
       "      <td>We have read with great interest the paper by ...</td>\n",
       "      <td>We have read with great interest the paper by ...</td>\n",
       "    </tr>\n",
       "    <tr>\n",
       "      <th>11</th>\n",
       "      <td>ap1ier4j</td>\n",
       "      <td>9ccc485ed46f4509d0f294555a38137e076436ee</td>\n",
       "      <td>Medline; PMC</td>\n",
       "      <td>SARS‐CoV2 virions in PM(10) pollutants. May fu...</td>\n",
       "      <td>10.1002/jmv.26590</td>\n",
       "      <td>PMC7675441</td>\n",
       "      <td>33038013</td>\n",
       "      <td>no-cc</td>\n",
       "      <td>The animated debate about the possibility that...</td>\n",
       "      <td>2020-10-30</td>\n",
       "      <td>...</td>\n",
       "      <td>NaN</td>\n",
       "      <td>NaN</td>\n",
       "      <td>NaN</td>\n",
       "      <td>document_parses/pdf_json/9ccc485ed46f4509d0f29...</td>\n",
       "      <td>document_parses/pmc_json/PMC7675441.xml.json</td>\n",
       "      <td>https://www.ncbi.nlm.nih.gov/pubmed/33038013/;...</td>\n",
       "      <td>222255277.0</td>\n",
       "      <td>na</td>\n",
       "      <td>The animated debate about the possibility that...</td>\n",
       "      <td>The animated debate about the possibility that...</td>\n",
       "    </tr>\n",
       "    <tr>\n",
       "      <th>...</th>\n",
       "      <td>...</td>\n",
       "      <td>...</td>\n",
       "      <td>...</td>\n",
       "      <td>...</td>\n",
       "      <td>...</td>\n",
       "      <td>...</td>\n",
       "      <td>...</td>\n",
       "      <td>...</td>\n",
       "      <td>...</td>\n",
       "      <td>...</td>\n",
       "      <td>...</td>\n",
       "      <td>...</td>\n",
       "      <td>...</td>\n",
       "      <td>...</td>\n",
       "      <td>...</td>\n",
       "      <td>...</td>\n",
       "      <td>...</td>\n",
       "      <td>...</td>\n",
       "      <td>...</td>\n",
       "      <td>...</td>\n",
       "      <td>...</td>\n",
       "    </tr>\n",
       "    <tr>\n",
       "      <th>49986</th>\n",
       "      <td>rds8o5z4</td>\n",
       "      <td>defd90d30189ee3f111999fba52835d0af6e80b4</td>\n",
       "      <td>Elsevier; Medline; PMC</td>\n",
       "      <td>The Past, Present, and Future of Simulation-ba...</td>\n",
       "      <td>10.1016/j.cpem.2016.05.005</td>\n",
       "      <td>PMC7106197</td>\n",
       "      <td>32288645</td>\n",
       "      <td>no-cc</td>\n",
       "      <td>The pediatric emergency medicine (PEM) environ...</td>\n",
       "      <td>2016-05-26</td>\n",
       "      <td>...</td>\n",
       "      <td>NaN</td>\n",
       "      <td>NaN</td>\n",
       "      <td>NaN</td>\n",
       "      <td>document_parses/pdf_json/defd90d30189ee3f11199...</td>\n",
       "      <td>document_parses/pmc_json/PMC7106197.xml.json</td>\n",
       "      <td>https://www.sciencedirect.com/science/article/...</td>\n",
       "      <td>77417855.0</td>\n",
       "      <td>na</td>\n",
       "      <td>T he pediatric emergency medicine (PEM) enviro...</td>\n",
       "      <td>Life-threatening events and cardiopulmonary ar...</td>\n",
       "    </tr>\n",
       "    <tr>\n",
       "      <th>49990</th>\n",
       "      <td>v4r2ek6a</td>\n",
       "      <td>60c371d44690cafde9637a72d502f93477632052</td>\n",
       "      <td>Medline; PMC; WHO</td>\n",
       "      <td>Coronavirus Disease (COVID-19) in Italy: Analy...</td>\n",
       "      <td>10.3389/fmed.2020.00140</td>\n",
       "      <td>PMC7161343</td>\n",
       "      <td>32328496</td>\n",
       "      <td>cc-by</td>\n",
       "      <td>NaN</td>\n",
       "      <td>2020-04-09</td>\n",
       "      <td>...</td>\n",
       "      <td>NaN</td>\n",
       "      <td>NaN</td>\n",
       "      <td>NaN</td>\n",
       "      <td>document_parses/pdf_json/60c371d44690cafde9637...</td>\n",
       "      <td>document_parses/pmc_json/PMC7161343.xml.json</td>\n",
       "      <td>https://www.ncbi.nlm.nih.gov/pubmed/32328496/;...</td>\n",
       "      <td>215516460.0</td>\n",
       "      <td>na</td>\n",
       "      <td>Until March 28, 2020, there were ∼90,000 confi...</td>\n",
       "      <td>The lethality rate is determined as follows: t...</td>\n",
       "    </tr>\n",
       "    <tr>\n",
       "      <th>49993</th>\n",
       "      <td>7y17ucne</td>\n",
       "      <td>36e62dae00d797cf29939309594dc550d5b5dd98; d23b...</td>\n",
       "      <td>Elsevier; PMC</td>\n",
       "      <td>The role of teledentistry in Oral Surgery duri...</td>\n",
       "      <td>10.1016/j.adoms.2020.100005</td>\n",
       "      <td>PMC7813496</td>\n",
       "      <td>NaN</td>\n",
       "      <td>els-covid</td>\n",
       "      <td>Objectives Evaluation of patient experience of...</td>\n",
       "      <td>2021-01-18</td>\n",
       "      <td>...</td>\n",
       "      <td>NaN</td>\n",
       "      <td>NaN</td>\n",
       "      <td>NaN</td>\n",
       "      <td>document_parses/pdf_json/36e62dae00d797cf29939...</td>\n",
       "      <td>NaN</td>\n",
       "      <td>https://api.elsevier.com/content/article/pii/S...</td>\n",
       "      <td>231628596.0</td>\n",
       "      <td>na</td>\n",
       "      <td>NaN</td>\n",
       "      <td>NaN</td>\n",
       "    </tr>\n",
       "    <tr>\n",
       "      <th>49995</th>\n",
       "      <td>yd5xxa9f</td>\n",
       "      <td>ec1ba3be658d703cb7a112919ff8f726a034d374</td>\n",
       "      <td>Medline; PMC</td>\n",
       "      <td>Low uptake of COVID-19 prevention behaviours a...</td>\n",
       "      <td>10.1016/j.ssmph.2021.100751</td>\n",
       "      <td>PMC7902538</td>\n",
       "      <td>33665333</td>\n",
       "      <td>cc-by</td>\n",
       "      <td>BACKGROUND: South Asia has become a major epic...</td>\n",
       "      <td>2021-02-13</td>\n",
       "      <td>...</td>\n",
       "      <td>NaN</td>\n",
       "      <td>NaN</td>\n",
       "      <td>NaN</td>\n",
       "      <td>document_parses/pdf_json/ec1ba3be658d703cb7a11...</td>\n",
       "      <td>document_parses/pmc_json/PMC7902538.xml.json</td>\n",
       "      <td>https://doi.org/10.1016/j.ssmph.2021.100751; h...</td>\n",
       "      <td>232100090.0</td>\n",
       "      <td>na</td>\n",
       "      <td>lockdown. Younger people and those from less a...</td>\n",
       "      <td>South-Asia is the most densely populated regio...</td>\n",
       "    </tr>\n",
       "    <tr>\n",
       "      <th>49996</th>\n",
       "      <td>9552n93a</td>\n",
       "      <td>95f7a93c5610b9c2d11c53f048f143db1c8e9b39</td>\n",
       "      <td>Medline; PMC</td>\n",
       "      <td>Avian Infectious Bronchitis Virus Enters Cells...</td>\n",
       "      <td>10.1007/978-0-387-33012-9_54</td>\n",
       "      <td>PMC7123215</td>\n",
       "      <td>17037550</td>\n",
       "      <td>no-cc</td>\n",
       "      <td>NaN</td>\n",
       "      <td>2006</td>\n",
       "      <td>...</td>\n",
       "      <td>NaN</td>\n",
       "      <td>NaN</td>\n",
       "      <td>NaN</td>\n",
       "      <td>document_parses/pdf_json/95f7a93c5610b9c2d11c5...</td>\n",
       "      <td>NaN</td>\n",
       "      <td>https://www.ncbi.nlm.nih.gov/pubmed/17037550/</td>\n",
       "      <td>42239180.0</td>\n",
       "      <td>na</td>\n",
       "      <td>Avian infectious bronchitis virus (IBV) is a g...</td>\n",
       "      <td>NaN</td>\n",
       "    </tr>\n",
       "  </tbody>\n",
       "</table>\n",
       "<p>16983 rows × 22 columns</p>\n",
       "</div>"
      ],
      "text/plain": [
       "       cord_uid                                                sha  \\\n",
       "1      fb6myqtr  dd4ca66c448e89e4c841f29daf40a356ef67babe; f4d5...   \n",
       "4      y6y235hw  303efcb8c5b2c65281962e16039caf0a18acda73; 89d8...   \n",
       "5      wbkwp5aj           0f7125bdd3fabee194a3fbbed3893ad51644da03   \n",
       "9      7w7bi56o           21e8f9dd0cfdccde3e8a49e711af9bc28cef958b   \n",
       "11     ap1ier4j           9ccc485ed46f4509d0f294555a38137e076436ee   \n",
       "...         ...                                                ...   \n",
       "49986  rds8o5z4           defd90d30189ee3f111999fba52835d0af6e80b4   \n",
       "49990  v4r2ek6a           60c371d44690cafde9637a72d502f93477632052   \n",
       "49993  7y17ucne  36e62dae00d797cf29939309594dc550d5b5dd98; d23b...   \n",
       "49995  yd5xxa9f           ec1ba3be658d703cb7a112919ff8f726a034d374   \n",
       "49996  9552n93a           95f7a93c5610b9c2d11c53f048f143db1c8e9b39   \n",
       "\n",
       "                     source_x  \\\n",
       "1                Medline; PMC   \n",
       "4      Elsevier; Medline; PMC   \n",
       "5                Medline; PMC   \n",
       "9                         PMC   \n",
       "11               Medline; PMC   \n",
       "...                       ...   \n",
       "49986  Elsevier; Medline; PMC   \n",
       "49990       Medline; PMC; WHO   \n",
       "49993           Elsevier; PMC   \n",
       "49995            Medline; PMC   \n",
       "49996            Medline; PMC   \n",
       "\n",
       "                                                   title  \\\n",
       "1      Towards biomarkers for outcomes after pancreat...   \n",
       "4      Steroid-associated osteonecrosis: Epidemiology...   \n",
       "5      First Surveillance of Violence against Women d...   \n",
       "9                Definition of HCV Reactivation [Letter]   \n",
       "11     SARS‐CoV2 virions in PM(10) pollutants. May fu...   \n",
       "...                                                  ...   \n",
       "49986  The Past, Present, and Future of Simulation-ba...   \n",
       "49990  Coronavirus Disease (COVID-19) in Italy: Analy...   \n",
       "49993  The role of teledentistry in Oral Surgery duri...   \n",
       "49995  Low uptake of COVID-19 prevention behaviours a...   \n",
       "49996  Avian Infectious Bronchitis Virus Enters Cells...   \n",
       "\n",
       "                                doi       pmcid pubmed_id      license  \\\n",
       "1       10.1136/bmjopen-2020-039560  PMC7747584  33334830     cc-by-nc   \n",
       "4         10.1016/j.jot.2014.12.002  PMC5982361  30035041  cc-by-nc-nd   \n",
       "5            10.3390/ijerph18073801  PMC8038697  33917305        cc-by   \n",
       "9             10.2147/imcrj.s342905  PMC8547488  34712063     cc-by-nc   \n",
       "11                10.1002/jmv.26590  PMC7675441  33038013        no-cc   \n",
       "...                             ...         ...       ...          ...   \n",
       "49986    10.1016/j.cpem.2016.05.005  PMC7106197  32288645        no-cc   \n",
       "49990       10.3389/fmed.2020.00140  PMC7161343  32328496        cc-by   \n",
       "49993   10.1016/j.adoms.2020.100005  PMC7813496       NaN    els-covid   \n",
       "49995   10.1016/j.ssmph.2021.100751  PMC7902538  33665333        cc-by   \n",
       "49996  10.1007/978-0-387-33012-9_54  PMC7123215  17037550        no-cc   \n",
       "\n",
       "                                              abstract_x publish_time  ...  \\\n",
       "1      INTRODUCTION: Ageing-related processes such as...   2020-12-17  ...   \n",
       "4      Steroid-associated osteonecrosis (SAON) is a c...   2015-01-13  ...   \n",
       "5      Violence against women emerges with tragic reg...   2021-04-06  ...   \n",
       "9                                                    NaN   2021-10-22  ...   \n",
       "11     The animated debate about the possibility that...   2020-10-30  ...   \n",
       "...                                                  ...          ...  ...   \n",
       "49986  The pediatric emergency medicine (PEM) environ...   2016-05-26  ...   \n",
       "49990                                                NaN   2020-04-09  ...   \n",
       "49993  Objectives Evaluation of patient experience of...   2021-01-18  ...   \n",
       "49995  BACKGROUND: South Asia has become a major epic...   2021-02-13  ...   \n",
       "49996                                                NaN         2006  ...   \n",
       "\n",
       "      mag_id who_covidence_id  arxiv_id  \\\n",
       "1        NaN              NaN       NaN   \n",
       "4        NaN              NaN       NaN   \n",
       "5        NaN              NaN       NaN   \n",
       "9        NaN              NaN       NaN   \n",
       "11       NaN              NaN       NaN   \n",
       "...      ...              ...       ...   \n",
       "49986    NaN              NaN       NaN   \n",
       "49990    NaN              NaN       NaN   \n",
       "49993    NaN              NaN       NaN   \n",
       "49995    NaN              NaN       NaN   \n",
       "49996    NaN              NaN       NaN   \n",
       "\n",
       "                                          pdf_json_files  \\\n",
       "1      document_parses/pdf_json/dd4ca66c448e89e4c841f...   \n",
       "4      document_parses/pdf_json/303efcb8c5b2c65281962...   \n",
       "5      document_parses/pdf_json/0f7125bdd3fabee194a3f...   \n",
       "9      document_parses/pdf_json/21e8f9dd0cfdccde3e8a4...   \n",
       "11     document_parses/pdf_json/9ccc485ed46f4509d0f29...   \n",
       "...                                                  ...   \n",
       "49986  document_parses/pdf_json/defd90d30189ee3f11199...   \n",
       "49990  document_parses/pdf_json/60c371d44690cafde9637...   \n",
       "49993  document_parses/pdf_json/36e62dae00d797cf29939...   \n",
       "49995  document_parses/pdf_json/ec1ba3be658d703cb7a11...   \n",
       "49996  document_parses/pdf_json/95f7a93c5610b9c2d11c5...   \n",
       "\n",
       "                                     pmc_json_files  \\\n",
       "1      document_parses/pmc_json/PMC7747584.xml.json   \n",
       "4      document_parses/pmc_json/PMC5982361.xml.json   \n",
       "5      document_parses/pmc_json/PMC8038697.xml.json   \n",
       "9      document_parses/pmc_json/PMC8547488.xml.json   \n",
       "11     document_parses/pmc_json/PMC7675441.xml.json   \n",
       "...                                             ...   \n",
       "49986  document_parses/pmc_json/PMC7106197.xml.json   \n",
       "49990  document_parses/pmc_json/PMC7161343.xml.json   \n",
       "49993                                           NaN   \n",
       "49995  document_parses/pmc_json/PMC7902538.xml.json   \n",
       "49996                                           NaN   \n",
       "\n",
       "                                                     url        s2_id  \\\n",
       "1      https://www.ncbi.nlm.nih.gov/pubmed/33334830/;...  229316922.0   \n",
       "4      https://www.sciencedirect.com/science/article/...   49895240.0   \n",
       "5      https://doi.org/10.3390/ijerph18073801; https:...  233208208.0   \n",
       "9      https://www.ncbi.nlm.nih.gov/pmc/articles/PMC8...          NaN   \n",
       "11     https://www.ncbi.nlm.nih.gov/pubmed/33038013/;...  222255277.0   \n",
       "...                                                  ...          ...   \n",
       "49986  https://www.sciencedirect.com/science/article/...   77417855.0   \n",
       "49990  https://www.ncbi.nlm.nih.gov/pubmed/32328496/;...  215516460.0   \n",
       "49993  https://api.elsevier.com/content/article/pii/S...  231628596.0   \n",
       "49995  https://doi.org/10.1016/j.ssmph.2021.100751; h...  232100090.0   \n",
       "49996      https://www.ncbi.nlm.nih.gov/pubmed/17037550/   42239180.0   \n",
       "\n",
       "      abstract_y                                        body_text_x  \\\n",
       "1             na                                                NaN   \n",
       "4             na                                                NaN   \n",
       "5             na  Episodes of violence against women emerge with...   \n",
       "9             na  We have read with great interest the paper by ...   \n",
       "11            na  The animated debate about the possibility that...   \n",
       "...          ...                                                ...   \n",
       "49986         na  T he pediatric emergency medicine (PEM) enviro...   \n",
       "49990         na  Until March 28, 2020, there were ∼90,000 confi...   \n",
       "49993         na                                                NaN   \n",
       "49995         na  lockdown. Younger people and those from less a...   \n",
       "49996         na  Avian infectious bronchitis virus (IBV) is a g...   \n",
       "\n",
       "                                             body_text_y  \n",
       "1      The incidence of pancreatic cancer is increasi...  \n",
       "4      Osteonecrosis (ON) is a disabling clinical dis...  \n",
       "5      Episodes of violence against women emerge with...  \n",
       "9      We have read with great interest the paper by ...  \n",
       "11     The animated debate about the possibility that...  \n",
       "...                                                  ...  \n",
       "49986  Life-threatening events and cardiopulmonary ar...  \n",
       "49990  The lethality rate is determined as follows: t...  \n",
       "49993                                                NaN  \n",
       "49995  South-Asia is the most densely populated regio...  \n",
       "49996                                                NaN  \n",
       "\n",
       "[16983 rows x 22 columns]"
      ]
     },
     "execution_count": 11,
     "metadata": {},
     "output_type": "execute_result"
    }
   ],
   "source": [
    "df_merged[df_merged['abstract_y'].apply(lambda x: len(str(x)) <= 10)]"
   ]
  },
  {
   "cell_type": "code",
   "execution_count": 12,
   "metadata": {},
   "outputs": [],
   "source": [
    "# sustituir abstract_x (columna de metadatos) por abstract_y (pdf_json) valor donde abstract_x es null\n",
    "df_merged.loc[df_merged.abstract_x.isnull() & (df_merged.abstract_y != 'na'),'abstract_x'] = df_merged[df_merged.abstract_x.isnull() & (df_merged.abstract_y != 'na')].abstract_y"
   ]
  },
  {
   "cell_type": "code",
   "execution_count": 13,
   "metadata": {},
   "outputs": [
    {
     "data": {
      "text/plain": [
       "5740"
      ]
     },
     "execution_count": 13,
     "metadata": {},
     "output_type": "execute_result"
    }
   ],
   "source": [
    "# ¿Tenemos algún valor abstracto nulo restante? Ya no. Esto es bueno.\n",
    "# Los valores nulos se han reducido que es lo que esperábamos.\n",
    "df_merged.abstract_x.isnull().sum()\n"
   ]
  },
  {
   "cell_type": "code",
   "execution_count": 14,
   "metadata": {},
   "outputs": [
    {
     "data": {
      "text/plain": [
       "Index(['cord_uid', 'sha', 'source_x', 'title', 'doi', 'pmcid', 'pubmed_id',\n",
       "       'license', 'abstract', 'publish_time', 'authors', 'journal', 'mag_id',\n",
       "       'who_covidence_id', 'arxiv_id', 'pdf_json_files', 'pmc_json_files',\n",
       "       'url', 's2_id', 'body_text_x', 'body_text_y'],\n",
       "      dtype='object')"
      ]
     },
     "execution_count": 14,
     "metadata": {},
     "output_type": "execute_result"
    }
   ],
   "source": [
    "# Deshagámonos de la columna pdf_json abstract y cambiemos el nombre de la columna metadata abstract\n",
    "df_merged.rename(columns = {'abstract_x' : 'abstract'}, inplace = True)\n",
    "df_merged.drop('abstract_y',axis=1,inplace = True)\n",
    "df_merged.columns"
   ]
  },
  {
   "cell_type": "code",
   "execution_count": 15,
   "metadata": {},
   "outputs": [
    {
     "data": {
      "text/plain": [
       "50000"
      ]
     },
     "execution_count": 15,
     "metadata": {},
     "output_type": "execute_result"
    }
   ],
   "source": [
    "# Esto se espera porque el texto del cuerpo viene de las carpetas pdf y pmc\n",
    "(df_merged.body_text_x != df_merged.body_text_y).sum()"
   ]
  },
  {
   "cell_type": "code",
   "execution_count": 16,
   "metadata": {},
   "outputs": [
    {
     "data": {
      "text/plain": [
       "(3078, 0)"
      ]
     },
     "execution_count": 16,
     "metadata": {},
     "output_type": "execute_result"
    }
   ],
   "source": [
    "df_merged.body_text_x.isnull().sum(),(df_merged.body_text_y == '').sum()"
   ]
  },
  {
   "cell_type": "code",
   "execution_count": 17,
   "metadata": {},
   "outputs": [
    {
     "data": {
      "text/plain": [
       "10596"
      ]
     },
     "execution_count": 17,
     "metadata": {},
     "output_type": "execute_result"
    }
   ],
   "source": [
    "# Esto se espera porque hay menos papeles en json_pmc\n",
    "df_merged.body_text_y.isnull().sum()"
   ]
  },
  {
   "cell_type": "code",
   "execution_count": 18,
   "metadata": {},
   "outputs": [
    {
     "data": {
      "text/plain": [
       "(3078, 10596)"
      ]
     },
     "execution_count": 18,
     "metadata": {},
     "output_type": "execute_result"
    }
   ],
   "source": [
    "# body_text_x es pdf_json. body_text_y viene de pmc_json\n",
    "# Cuando está disponible utilizamos el texto del archivo pmc confiando en la calidad de la declaración\n",
    "df_merged.body_text_x.isnull().sum(),(df_merged.body_text_y.isnull()).sum()"
   ]
  },
  {
   "cell_type": "code",
   "execution_count": 19,
   "metadata": {},
   "outputs": [
    {
     "data": {
      "text/html": [
       "<div>\n",
       "<style scoped>\n",
       "    .dataframe tbody tr th:only-of-type {\n",
       "        vertical-align: middle;\n",
       "    }\n",
       "\n",
       "    .dataframe tbody tr th {\n",
       "        vertical-align: top;\n",
       "    }\n",
       "\n",
       "    .dataframe thead th {\n",
       "        text-align: right;\n",
       "    }\n",
       "</style>\n",
       "<table border=\"1\" class=\"dataframe\">\n",
       "  <thead>\n",
       "    <tr style=\"text-align: right;\">\n",
       "      <th></th>\n",
       "      <th>cord_uid</th>\n",
       "      <th>sha</th>\n",
       "      <th>source_x</th>\n",
       "      <th>title</th>\n",
       "      <th>doi</th>\n",
       "      <th>pmcid</th>\n",
       "      <th>pubmed_id</th>\n",
       "      <th>license</th>\n",
       "      <th>abstract</th>\n",
       "      <th>publish_time</th>\n",
       "      <th>...</th>\n",
       "      <th>journal</th>\n",
       "      <th>mag_id</th>\n",
       "      <th>who_covidence_id</th>\n",
       "      <th>arxiv_id</th>\n",
       "      <th>pdf_json_files</th>\n",
       "      <th>pmc_json_files</th>\n",
       "      <th>url</th>\n",
       "      <th>s2_id</th>\n",
       "      <th>body_text_x</th>\n",
       "      <th>body_text_y</th>\n",
       "    </tr>\n",
       "  </thead>\n",
       "  <tbody>\n",
       "    <tr>\n",
       "      <th>1</th>\n",
       "      <td>fb6myqtr</td>\n",
       "      <td>dd4ca66c448e89e4c841f29daf40a356ef67babe; f4d5...</td>\n",
       "      <td>Medline; PMC</td>\n",
       "      <td>Towards biomarkers for outcomes after pancreat...</td>\n",
       "      <td>10.1136/bmjopen-2020-039560</td>\n",
       "      <td>PMC7747584</td>\n",
       "      <td>33334830</td>\n",
       "      <td>cc-by-nc</td>\n",
       "      <td>INTRODUCTION: Ageing-related processes such as...</td>\n",
       "      <td>2020-12-17</td>\n",
       "      <td>...</td>\n",
       "      <td>BMJ Open</td>\n",
       "      <td>NaN</td>\n",
       "      <td>NaN</td>\n",
       "      <td>NaN</td>\n",
       "      <td>document_parses/pdf_json/dd4ca66c448e89e4c841f...</td>\n",
       "      <td>document_parses/pmc_json/PMC7747584.xml.json</td>\n",
       "      <td>https://www.ncbi.nlm.nih.gov/pubmed/33334830/;...</td>\n",
       "      <td>229316922.0</td>\n",
       "      <td>NaN</td>\n",
       "      <td>The incidence of pancreatic cancer is increasi...</td>\n",
       "    </tr>\n",
       "    <tr>\n",
       "      <th>4</th>\n",
       "      <td>y6y235hw</td>\n",
       "      <td>303efcb8c5b2c65281962e16039caf0a18acda73; 89d8...</td>\n",
       "      <td>Elsevier; Medline; PMC</td>\n",
       "      <td>Steroid-associated osteonecrosis: Epidemiology...</td>\n",
       "      <td>10.1016/j.jot.2014.12.002</td>\n",
       "      <td>PMC5982361</td>\n",
       "      <td>30035041</td>\n",
       "      <td>cc-by-nc-nd</td>\n",
       "      <td>Steroid-associated osteonecrosis (SAON) is a c...</td>\n",
       "      <td>2015-01-13</td>\n",
       "      <td>...</td>\n",
       "      <td>J Orthop Translat</td>\n",
       "      <td>NaN</td>\n",
       "      <td>NaN</td>\n",
       "      <td>NaN</td>\n",
       "      <td>document_parses/pdf_json/303efcb8c5b2c65281962...</td>\n",
       "      <td>document_parses/pmc_json/PMC5982361.xml.json</td>\n",
       "      <td>https://www.sciencedirect.com/science/article/...</td>\n",
       "      <td>49895240.0</td>\n",
       "      <td>NaN</td>\n",
       "      <td>Osteonecrosis (ON) is a disabling clinical dis...</td>\n",
       "    </tr>\n",
       "    <tr>\n",
       "      <th>14</th>\n",
       "      <td>nz4lyeg1</td>\n",
       "      <td>ba9640511aa108c1be7af50c1fdc3384f22b9f3d; 7992...</td>\n",
       "      <td>Elsevier; Medline; PMC</td>\n",
       "      <td>Searching potential antiviral candidates for t...</td>\n",
       "      <td>10.1016/j.heliyon.2020.e04640</td>\n",
       "      <td>PMC7409764</td>\n",
       "      <td>32802981</td>\n",
       "      <td>no-cc</td>\n",
       "      <td>In the present work, the succinic acid (SA), L...</td>\n",
       "      <td>2020-08-06</td>\n",
       "      <td>...</td>\n",
       "      <td>Heliyon</td>\n",
       "      <td>NaN</td>\n",
       "      <td>NaN</td>\n",
       "      <td>NaN</td>\n",
       "      <td>document_parses/pdf_json/ba9640511aa108c1be7af...</td>\n",
       "      <td>document_parses/pmc_json/PMC7409764.xml.json</td>\n",
       "      <td>https://www.ncbi.nlm.nih.gov/pubmed/32802981/;...</td>\n",
       "      <td>221012129.0</td>\n",
       "      <td>NaN</td>\n",
       "      <td>December 2019 winsted the awfully outbreak of ...</td>\n",
       "    </tr>\n",
       "    <tr>\n",
       "      <th>19</th>\n",
       "      <td>abrweljg</td>\n",
       "      <td>c14160d7c97c5cf7b4d0bee2a31da3d838e5cb4d; 21f6...</td>\n",
       "      <td>Elsevier; Medline; PMC</td>\n",
       "      <td>A Comparison of Two Methods for Retrieving ICD...</td>\n",
       "      <td>10.1016/j.jbi.2011.01.005</td>\n",
       "      <td>PMC3440000</td>\n",
       "      <td>21262390</td>\n",
       "      <td>green-oa</td>\n",
       "      <td>OBJECTIVE: Most existing controlled terminolog...</td>\n",
       "      <td>2011-04-01</td>\n",
       "      <td>...</td>\n",
       "      <td>Journal of Biomedical Informatics</td>\n",
       "      <td>NaN</td>\n",
       "      <td>NaN</td>\n",
       "      <td>NaN</td>\n",
       "      <td>document_parses/pdf_json/c14160d7c97c5cf7b4d0b...</td>\n",
       "      <td>document_parses/pmc_json/PMC3440000.xml.json</td>\n",
       "      <td>http://europepmc.org/articles/pmc2655821?pdf=r...</td>\n",
       "      <td>1536708.0</td>\n",
       "      <td>NaN</td>\n",
       "      <td>Most existing controlled terminologies can be ...</td>\n",
       "    </tr>\n",
       "    <tr>\n",
       "      <th>36</th>\n",
       "      <td>i3jsvtwp</td>\n",
       "      <td>6596d704c6f6c3072661fc7f58203cfbb43985fa; 5d12...</td>\n",
       "      <td>Medline; PMC</td>\n",
       "      <td>Excess mortality in the United States in the 2...</td>\n",
       "      <td>10.1073/pnas.2024850118</td>\n",
       "      <td>PMC8072323</td>\n",
       "      <td>33846260</td>\n",
       "      <td>cc-by-nc-nd</td>\n",
       "      <td>We use three indexes to identify how age-speci...</td>\n",
       "      <td>2021-04-20</td>\n",
       "      <td>...</td>\n",
       "      <td>Proc Natl Acad Sci U S A</td>\n",
       "      <td>NaN</td>\n",
       "      <td>NaN</td>\n",
       "      <td>NaN</td>\n",
       "      <td>document_parses/pdf_json/6596d704c6f6c3072661f...</td>\n",
       "      <td>document_parses/pmc_json/PMC8072323.xml.json</td>\n",
       "      <td>https://www.ncbi.nlm.nih.gov/pubmed/33846260/;...</td>\n",
       "      <td>233222199.0</td>\n",
       "      <td>NaN</td>\n",
       "      <td>Fig. 1A shows the ratio of US death rates to t...</td>\n",
       "    </tr>\n",
       "    <tr>\n",
       "      <th>...</th>\n",
       "      <td>...</td>\n",
       "      <td>...</td>\n",
       "      <td>...</td>\n",
       "      <td>...</td>\n",
       "      <td>...</td>\n",
       "      <td>...</td>\n",
       "      <td>...</td>\n",
       "      <td>...</td>\n",
       "      <td>...</td>\n",
       "      <td>...</td>\n",
       "      <td>...</td>\n",
       "      <td>...</td>\n",
       "      <td>...</td>\n",
       "      <td>...</td>\n",
       "      <td>...</td>\n",
       "      <td>...</td>\n",
       "      <td>...</td>\n",
       "      <td>...</td>\n",
       "      <td>...</td>\n",
       "      <td>...</td>\n",
       "      <td>...</td>\n",
       "    </tr>\n",
       "    <tr>\n",
       "      <th>49930</th>\n",
       "      <td>vcz6z51b</td>\n",
       "      <td>71d9dc2d598ce67bded3a1339daf5592f6a69933; 7f4e...</td>\n",
       "      <td>BioRxiv; Medline; PMC; WHO</td>\n",
       "      <td>Subtle differences in the pathogenicity of SAR...</td>\n",
       "      <td>10.1101/2021.05.07.443115</td>\n",
       "      <td>PMC8357058</td>\n",
       "      <td>34382034</td>\n",
       "      <td>cc0</td>\n",
       "      <td>The emergence of several SARS-CoV-2 variants h...</td>\n",
       "      <td>2021-05-07</td>\n",
       "      <td>...</td>\n",
       "      <td>bioRxiv</td>\n",
       "      <td>NaN</td>\n",
       "      <td>NaN</td>\n",
       "      <td>NaN</td>\n",
       "      <td>document_parses/pdf_json/71d9dc2d598ce67bded3a...</td>\n",
       "      <td>document_parses/pmc_json/PMC8357058.xml.json</td>\n",
       "      <td>https://www.ncbi.nlm.nih.gov/pubmed/34382034/;...</td>\n",
       "      <td>234350149.0</td>\n",
       "      <td>NaN</td>\n",
       "      <td>As the COVID-19 pandemic continues, so does th...</td>\n",
       "    </tr>\n",
       "    <tr>\n",
       "      <th>49931</th>\n",
       "      <td>6i7g9uzj</td>\n",
       "      <td>23aa14f686cc1c522054d3b394dd5258daf16077; a640...</td>\n",
       "      <td>Medline; PMC</td>\n",
       "      <td>Single-cell analysis of two severe COVID-19 pa...</td>\n",
       "      <td>10.1038/s41467-020-17834-w</td>\n",
       "      <td>PMC7413381</td>\n",
       "      <td>32764665</td>\n",
       "      <td>cc-by</td>\n",
       "      <td>Several studies show that the immunosuppressiv...</td>\n",
       "      <td>2020-08-06</td>\n",
       "      <td>...</td>\n",
       "      <td>Nat Commun</td>\n",
       "      <td>NaN</td>\n",
       "      <td>NaN</td>\n",
       "      <td>NaN</td>\n",
       "      <td>document_parses/pdf_json/23aa14f686cc1c522054d...</td>\n",
       "      <td>document_parses/pmc_json/PMC7413381.xml.json</td>\n",
       "      <td>https://www.ncbi.nlm.nih.gov/pubmed/32764665/;...</td>\n",
       "      <td>220981673.0</td>\n",
       "      <td>NaN</td>\n",
       "      <td>As of May 1, 2020, the WHO has reported 224,17...</td>\n",
       "    </tr>\n",
       "    <tr>\n",
       "      <th>49932</th>\n",
       "      <td>7pgglbk0</td>\n",
       "      <td>7b7b3dd035adb07fd4cad7acdf9cd491d79c2f17; bfb7...</td>\n",
       "      <td>Elsevier; Medline; PMC</td>\n",
       "      <td>Demystifying pulmonary vascular complications ...</td>\n",
       "      <td>10.1016/j.thromres.2020.06.043</td>\n",
       "      <td>PMC7319924</td>\n",
       "      <td>32620455</td>\n",
       "      <td>no-cc</td>\n",
       "      <td>• Small pulmonary vessel changes are a unique ...</td>\n",
       "      <td>2020-06-27</td>\n",
       "      <td>...</td>\n",
       "      <td>Thromb Res</td>\n",
       "      <td>NaN</td>\n",
       "      <td>NaN</td>\n",
       "      <td>NaN</td>\n",
       "      <td>document_parses/pdf_json/7b7b3dd035adb07fd4cad...</td>\n",
       "      <td>document_parses/pmc_json/PMC7319924.xml.json</td>\n",
       "      <td>https://www.sciencedirect.com/science/article/...</td>\n",
       "      <td>220070884.0</td>\n",
       "      <td>NaN</td>\n",
       "      <td>Coronavirus disease-19 (COVID-19) has spread t...</td>\n",
       "    </tr>\n",
       "    <tr>\n",
       "      <th>49945</th>\n",
       "      <td>my94gfxf</td>\n",
       "      <td>6b53474d1c92e1d0259db02b586b9fa6d2a33038; 51b4...</td>\n",
       "      <td>Medline; PMC</td>\n",
       "      <td>Dietary Profile and Nutritional Status of the ...</td>\n",
       "      <td>10.3390/nu12092836</td>\n",
       "      <td>PMC7551568</td>\n",
       "      <td>32947945</td>\n",
       "      <td>cc-by</td>\n",
       "      <td>Nutrition studies among Roma are scarce and to...</td>\n",
       "      <td>2020-09-16</td>\n",
       "      <td>...</td>\n",
       "      <td>Nutrients</td>\n",
       "      <td>NaN</td>\n",
       "      <td>NaN</td>\n",
       "      <td>NaN</td>\n",
       "      <td>document_parses/pdf_json/6b53474d1c92e1d0259db...</td>\n",
       "      <td>document_parses/pmc_json/PMC7551568.xml.json</td>\n",
       "      <td>https://doi.org/10.3390/nu12092836; https://ww...</td>\n",
       "      <td>221799394.0</td>\n",
       "      <td>NaN</td>\n",
       "      <td>The Roma population constitutes the largest et...</td>\n",
       "    </tr>\n",
       "    <tr>\n",
       "      <th>49948</th>\n",
       "      <td>8ax2o7pr</td>\n",
       "      <td>5d4165bcfee11f084b1b8a4afbe4003619985abb; 4b13...</td>\n",
       "      <td>Elsevier; Medline; PMC</td>\n",
       "      <td>Altered expression of SARS-CoV-2 entry and pro...</td>\n",
       "      <td>10.1016/j.archoralbio.2021.105201</td>\n",
       "      <td>PMC8215882</td>\n",
       "      <td>34174588</td>\n",
       "      <td>no-cc</td>\n",
       "      <td>OBJECTIVE: The aim of this in vitro study was ...</td>\n",
       "      <td>2021-06-21</td>\n",
       "      <td>...</td>\n",
       "      <td>Arch Oral Biol</td>\n",
       "      <td>NaN</td>\n",
       "      <td>NaN</td>\n",
       "      <td>NaN</td>\n",
       "      <td>document_parses/pdf_json/5d4165bcfee11f084b1b8...</td>\n",
       "      <td>document_parses/pmc_json/PMC8215882.xml.json</td>\n",
       "      <td>https://doi.org/10.1016/j.archoralbio.2021.105...</td>\n",
       "      <td>235494592.0</td>\n",
       "      <td>NaN</td>\n",
       "      <td>Since the first discovery of pneumonia of unkn...</td>\n",
       "    </tr>\n",
       "  </tbody>\n",
       "</table>\n",
       "<p>2886 rows × 21 columns</p>\n",
       "</div>"
      ],
      "text/plain": [
       "       cord_uid                                                sha  \\\n",
       "1      fb6myqtr  dd4ca66c448e89e4c841f29daf40a356ef67babe; f4d5...   \n",
       "4      y6y235hw  303efcb8c5b2c65281962e16039caf0a18acda73; 89d8...   \n",
       "14     nz4lyeg1  ba9640511aa108c1be7af50c1fdc3384f22b9f3d; 7992...   \n",
       "19     abrweljg  c14160d7c97c5cf7b4d0bee2a31da3d838e5cb4d; 21f6...   \n",
       "36     i3jsvtwp  6596d704c6f6c3072661fc7f58203cfbb43985fa; 5d12...   \n",
       "...         ...                                                ...   \n",
       "49930  vcz6z51b  71d9dc2d598ce67bded3a1339daf5592f6a69933; 7f4e...   \n",
       "49931  6i7g9uzj  23aa14f686cc1c522054d3b394dd5258daf16077; a640...   \n",
       "49932  7pgglbk0  7b7b3dd035adb07fd4cad7acdf9cd491d79c2f17; bfb7...   \n",
       "49945  my94gfxf  6b53474d1c92e1d0259db02b586b9fa6d2a33038; 51b4...   \n",
       "49948  8ax2o7pr  5d4165bcfee11f084b1b8a4afbe4003619985abb; 4b13...   \n",
       "\n",
       "                         source_x  \\\n",
       "1                    Medline; PMC   \n",
       "4          Elsevier; Medline; PMC   \n",
       "14         Elsevier; Medline; PMC   \n",
       "19         Elsevier; Medline; PMC   \n",
       "36                   Medline; PMC   \n",
       "...                           ...   \n",
       "49930  BioRxiv; Medline; PMC; WHO   \n",
       "49931                Medline; PMC   \n",
       "49932      Elsevier; Medline; PMC   \n",
       "49945                Medline; PMC   \n",
       "49948      Elsevier; Medline; PMC   \n",
       "\n",
       "                                                   title  \\\n",
       "1      Towards biomarkers for outcomes after pancreat...   \n",
       "4      Steroid-associated osteonecrosis: Epidemiology...   \n",
       "14     Searching potential antiviral candidates for t...   \n",
       "19     A Comparison of Two Methods for Retrieving ICD...   \n",
       "36     Excess mortality in the United States in the 2...   \n",
       "...                                                  ...   \n",
       "49930  Subtle differences in the pathogenicity of SAR...   \n",
       "49931  Single-cell analysis of two severe COVID-19 pa...   \n",
       "49932  Demystifying pulmonary vascular complications ...   \n",
       "49945  Dietary Profile and Nutritional Status of the ...   \n",
       "49948  Altered expression of SARS-CoV-2 entry and pro...   \n",
       "\n",
       "                                     doi       pmcid pubmed_id      license  \\\n",
       "1            10.1136/bmjopen-2020-039560  PMC7747584  33334830     cc-by-nc   \n",
       "4              10.1016/j.jot.2014.12.002  PMC5982361  30035041  cc-by-nc-nd   \n",
       "14         10.1016/j.heliyon.2020.e04640  PMC7409764  32802981        no-cc   \n",
       "19             10.1016/j.jbi.2011.01.005  PMC3440000  21262390     green-oa   \n",
       "36               10.1073/pnas.2024850118  PMC8072323  33846260  cc-by-nc-nd   \n",
       "...                                  ...         ...       ...          ...   \n",
       "49930          10.1101/2021.05.07.443115  PMC8357058  34382034          cc0   \n",
       "49931         10.1038/s41467-020-17834-w  PMC7413381  32764665        cc-by   \n",
       "49932     10.1016/j.thromres.2020.06.043  PMC7319924  32620455        no-cc   \n",
       "49945                 10.3390/nu12092836  PMC7551568  32947945        cc-by   \n",
       "49948  10.1016/j.archoralbio.2021.105201  PMC8215882  34174588        no-cc   \n",
       "\n",
       "                                                abstract publish_time  ...  \\\n",
       "1      INTRODUCTION: Ageing-related processes such as...   2020-12-17  ...   \n",
       "4      Steroid-associated osteonecrosis (SAON) is a c...   2015-01-13  ...   \n",
       "14     In the present work, the succinic acid (SA), L...   2020-08-06  ...   \n",
       "19     OBJECTIVE: Most existing controlled terminolog...   2011-04-01  ...   \n",
       "36     We use three indexes to identify how age-speci...   2021-04-20  ...   \n",
       "...                                                  ...          ...  ...   \n",
       "49930  The emergence of several SARS-CoV-2 variants h...   2021-05-07  ...   \n",
       "49931  Several studies show that the immunosuppressiv...   2020-08-06  ...   \n",
       "49932  • Small pulmonary vessel changes are a unique ...   2020-06-27  ...   \n",
       "49945  Nutrition studies among Roma are scarce and to...   2020-09-16  ...   \n",
       "49948  OBJECTIVE: The aim of this in vitro study was ...   2021-06-21  ...   \n",
       "\n",
       "                                 journal mag_id  who_covidence_id arxiv_id  \\\n",
       "1                               BMJ Open    NaN               NaN      NaN   \n",
       "4                      J Orthop Translat    NaN               NaN      NaN   \n",
       "14                               Heliyon    NaN               NaN      NaN   \n",
       "19     Journal of Biomedical Informatics    NaN               NaN      NaN   \n",
       "36              Proc Natl Acad Sci U S A    NaN               NaN      NaN   \n",
       "...                                  ...    ...               ...      ...   \n",
       "49930                            bioRxiv    NaN               NaN      NaN   \n",
       "49931                         Nat Commun    NaN               NaN      NaN   \n",
       "49932                         Thromb Res    NaN               NaN      NaN   \n",
       "49945                          Nutrients    NaN               NaN      NaN   \n",
       "49948                     Arch Oral Biol    NaN               NaN      NaN   \n",
       "\n",
       "                                          pdf_json_files  \\\n",
       "1      document_parses/pdf_json/dd4ca66c448e89e4c841f...   \n",
       "4      document_parses/pdf_json/303efcb8c5b2c65281962...   \n",
       "14     document_parses/pdf_json/ba9640511aa108c1be7af...   \n",
       "19     document_parses/pdf_json/c14160d7c97c5cf7b4d0b...   \n",
       "36     document_parses/pdf_json/6596d704c6f6c3072661f...   \n",
       "...                                                  ...   \n",
       "49930  document_parses/pdf_json/71d9dc2d598ce67bded3a...   \n",
       "49931  document_parses/pdf_json/23aa14f686cc1c522054d...   \n",
       "49932  document_parses/pdf_json/7b7b3dd035adb07fd4cad...   \n",
       "49945  document_parses/pdf_json/6b53474d1c92e1d0259db...   \n",
       "49948  document_parses/pdf_json/5d4165bcfee11f084b1b8...   \n",
       "\n",
       "                                     pmc_json_files  \\\n",
       "1      document_parses/pmc_json/PMC7747584.xml.json   \n",
       "4      document_parses/pmc_json/PMC5982361.xml.json   \n",
       "14     document_parses/pmc_json/PMC7409764.xml.json   \n",
       "19     document_parses/pmc_json/PMC3440000.xml.json   \n",
       "36     document_parses/pmc_json/PMC8072323.xml.json   \n",
       "...                                             ...   \n",
       "49930  document_parses/pmc_json/PMC8357058.xml.json   \n",
       "49931  document_parses/pmc_json/PMC7413381.xml.json   \n",
       "49932  document_parses/pmc_json/PMC7319924.xml.json   \n",
       "49945  document_parses/pmc_json/PMC7551568.xml.json   \n",
       "49948  document_parses/pmc_json/PMC8215882.xml.json   \n",
       "\n",
       "                                                     url        s2_id  \\\n",
       "1      https://www.ncbi.nlm.nih.gov/pubmed/33334830/;...  229316922.0   \n",
       "4      https://www.sciencedirect.com/science/article/...   49895240.0   \n",
       "14     https://www.ncbi.nlm.nih.gov/pubmed/32802981/;...  221012129.0   \n",
       "19     http://europepmc.org/articles/pmc2655821?pdf=r...    1536708.0   \n",
       "36     https://www.ncbi.nlm.nih.gov/pubmed/33846260/;...  233222199.0   \n",
       "...                                                  ...          ...   \n",
       "49930  https://www.ncbi.nlm.nih.gov/pubmed/34382034/;...  234350149.0   \n",
       "49931  https://www.ncbi.nlm.nih.gov/pubmed/32764665/;...  220981673.0   \n",
       "49932  https://www.sciencedirect.com/science/article/...  220070884.0   \n",
       "49945  https://doi.org/10.3390/nu12092836; https://ww...  221799394.0   \n",
       "49948  https://doi.org/10.1016/j.archoralbio.2021.105...  235494592.0   \n",
       "\n",
       "       body_text_x                                        body_text_y  \n",
       "1              NaN  The incidence of pancreatic cancer is increasi...  \n",
       "4              NaN  Osteonecrosis (ON) is a disabling clinical dis...  \n",
       "14             NaN  December 2019 winsted the awfully outbreak of ...  \n",
       "19             NaN  Most existing controlled terminologies can be ...  \n",
       "36             NaN  Fig. 1A shows the ratio of US death rates to t...  \n",
       "...            ...                                                ...  \n",
       "49930          NaN  As the COVID-19 pandemic continues, so does th...  \n",
       "49931          NaN  As of May 1, 2020, the WHO has reported 224,17...  \n",
       "49932          NaN  Coronavirus disease-19 (COVID-19) has spread t...  \n",
       "49945          NaN  The Roma population constitutes the largest et...  \n",
       "49948          NaN  Since the first discovery of pneumonia of unkn...  \n",
       "\n",
       "[2886 rows x 21 columns]"
      ]
     },
     "execution_count": 19,
     "metadata": {},
     "output_type": "execute_result"
    }
   ],
   "source": [
    "# Hay ~13k filas en las que body_text_x es null pero body_text_y no es null# Hay ~13k filas en las que body_text_x es null pero body_text_y no es null\n",
    "df_merged.loc[df_merged.body_text_x.isnull() & df_merged.body_text_y.notnull()]"
   ]
  },
  {
   "cell_type": "code",
   "execution_count": 20,
   "metadata": {},
   "outputs": [],
   "source": [
    "# Confiamos en que el texto de la carpeta pmc sea de mayor calidad ya que contiene el texto completo. \n",
    "# Por lo tanto, vamos a reemplazar con body_text_x con body_text_y donde body_text_y existe\n",
    "df_merged.loc[df_merged.body_text_y.notnull(),'body_text_x'] = df_merged.loc[df_merged.body_text_y.notnull(), 'body_text_y']"
   ]
  },
  {
   "cell_type": "code",
   "execution_count": 21,
   "metadata": {},
   "outputs": [
    {
     "data": {
      "text/plain": [
       "Index(['cord_uid', 'sha', 'source_x', 'title', 'doi', 'pmcid', 'pubmed_id',\n",
       "       'license', 'abstract', 'publish_time', 'authors', 'journal', 'mag_id',\n",
       "       'who_covidence_id', 'arxiv_id', 'pdf_json_files', 'pmc_json_files',\n",
       "       'url', 's2_id', 'body_text'],\n",
       "      dtype='object')"
      ]
     },
     "execution_count": 21,
     "metadata": {},
     "output_type": "execute_result"
    }
   ],
   "source": [
    "# Deshagámonos de la columna pdf_pmc body text y cambiemos el nombre de la columna body textdf_merged.rename(columns = {'body_text_x' : 'body_text'}, inplace = True)\n",
    "df_merged.rename(columns = {'body_text_x' : 'body_text'}, inplace = True)\n",
    "df_merged.drop('body_text_y',axis=1,inplace = True)\n",
    "df_merged.columns"
   ]
  },
  {
   "cell_type": "code",
   "execution_count": 22,
   "metadata": {},
   "outputs": [
    {
     "data": {
      "text/plain": [
       "192"
      ]
     },
     "execution_count": 22,
     "metadata": {},
     "output_type": "execute_result"
    }
   ],
   "source": [
    "# Los valores nulos del cuerpo del texto ahora han disminuido. \n",
    "df_merged.body_text.isnull().sum()"
   ]
  },
  {
   "cell_type": "code",
   "execution_count": 23,
   "metadata": {},
   "outputs": [
    {
     "data": {
      "text/plain": [
       "Index(['cord_uid', 'sha', 'source_x', 'title', 'doi', 'pmcid', 'pubmed_id',\n",
       "       'license', 'abstract', 'publish_time', 'authors', 'journal', 'mag_id',\n",
       "       'who_covidence_id', 'arxiv_id', 'pdf_json_files', 'pmc_json_files',\n",
       "       'url', 's2_id', 'body_text'],\n",
       "      dtype='object')"
      ]
     },
     "execution_count": 23,
     "metadata": {},
     "output_type": "execute_result"
    }
   ],
   "source": [
    "df_merged.columns"
   ]
  },
  {
   "cell_type": "code",
   "execution_count": 24,
   "metadata": {},
   "outputs": [],
   "source": [
    "df_final = df_merged[['sha', 'title', 'abstract', 'publish_time', 'authors', 'url', 'body_text']]"
   ]
  },
  {
   "cell_type": "code",
   "execution_count": 25,
   "metadata": {},
   "outputs": [
    {
     "data": {
      "text/html": [
       "<div>\n",
       "<style scoped>\n",
       "    .dataframe tbody tr th:only-of-type {\n",
       "        vertical-align: middle;\n",
       "    }\n",
       "\n",
       "    .dataframe tbody tr th {\n",
       "        vertical-align: top;\n",
       "    }\n",
       "\n",
       "    .dataframe thead th {\n",
       "        text-align: right;\n",
       "    }\n",
       "</style>\n",
       "<table border=\"1\" class=\"dataframe\">\n",
       "  <thead>\n",
       "    <tr style=\"text-align: right;\">\n",
       "      <th></th>\n",
       "      <th>sha</th>\n",
       "      <th>title</th>\n",
       "      <th>abstract</th>\n",
       "      <th>publish_time</th>\n",
       "      <th>authors</th>\n",
       "      <th>url</th>\n",
       "      <th>body_text</th>\n",
       "    </tr>\n",
       "  </thead>\n",
       "  <tbody>\n",
       "    <tr>\n",
       "      <th>0</th>\n",
       "      <td>689dc11605e42381fcc7a5e46d29a9bd26a17526</td>\n",
       "      <td>Backbone reconstruction in temporal networks f...</td>\n",
       "      <td>Many complex systems are characterized by time...</td>\n",
       "      <td>2019-10-15</td>\n",
       "      <td>Surano, Francesco Vincenzo; Bongiorno, Christi...</td>\n",
       "      <td>https://www.ncbi.nlm.nih.gov/pmc/articles/PMC7...</td>\n",
       "      <td>In the past few decades, network science has e...</td>\n",
       "    </tr>\n",
       "    <tr>\n",
       "      <th>1</th>\n",
       "      <td>dd4ca66c448e89e4c841f29daf40a356ef67babe; f4d5...</td>\n",
       "      <td>Towards biomarkers for outcomes after pancreat...</td>\n",
       "      <td>INTRODUCTION: Ageing-related processes such as...</td>\n",
       "      <td>2020-12-17</td>\n",
       "      <td>Henze, Larissa; Walter, Uwe; Murua Escobar, Hu...</td>\n",
       "      <td>https://www.ncbi.nlm.nih.gov/pubmed/33334830/;...</td>\n",
       "      <td>The incidence of pancreatic cancer is increasi...</td>\n",
       "    </tr>\n",
       "    <tr>\n",
       "      <th>2</th>\n",
       "      <td>9ceebe88ad70fbd159e889c9071d4e85684d7138</td>\n",
       "      <td>Steroid treatment in patients with acute respi...</td>\n",
       "      <td>PURPOSE: Although the most recent systematic r...</td>\n",
       "      <td>2021-11-10</td>\n",
       "      <td>Yoshihiro, Shodai; Hongo, Takashi; Ohki, Shing...</td>\n",
       "      <td>https://www.ncbi.nlm.nih.gov/pmc/articles/PMC8...</td>\n",
       "      <td>Acute respiratory distress syndrome (ARDS) is ...</td>\n",
       "    </tr>\n",
       "    <tr>\n",
       "      <th>3</th>\n",
       "      <td>e7e2de0dc748780122aa7be286cb300138bb431e</td>\n",
       "      <td>A global analysis on the effect of temperature...</td>\n",
       "      <td>We performed a global analysis with data from ...</td>\n",
       "      <td>2020-10-06</td>\n",
       "      <td>Rahman, Mizanur; Islam, Mahmuda; Shimanto, Meh...</td>\n",
       "      <td>https://doi.org/10.1007/s10668-020-01028-x; ht...</td>\n",
       "      <td>COVID-19 has become a global concern since the...</td>\n",
       "    </tr>\n",
       "    <tr>\n",
       "      <th>4</th>\n",
       "      <td>303efcb8c5b2c65281962e16039caf0a18acda73; 89d8...</td>\n",
       "      <td>Steroid-associated osteonecrosis: Epidemiology...</td>\n",
       "      <td>Steroid-associated osteonecrosis (SAON) is a c...</td>\n",
       "      <td>2015-01-13</td>\n",
       "      <td>Xie, Xin-Hui; Wang, Xin-Luan; Yang, Hui-Lin; Z...</td>\n",
       "      <td>https://www.sciencedirect.com/science/article/...</td>\n",
       "      <td>Osteonecrosis (ON) is a disabling clinical dis...</td>\n",
       "    </tr>\n",
       "  </tbody>\n",
       "</table>\n",
       "</div>"
      ],
      "text/plain": [
       "                                                 sha  \\\n",
       "0           689dc11605e42381fcc7a5e46d29a9bd26a17526   \n",
       "1  dd4ca66c448e89e4c841f29daf40a356ef67babe; f4d5...   \n",
       "2           9ceebe88ad70fbd159e889c9071d4e85684d7138   \n",
       "3           e7e2de0dc748780122aa7be286cb300138bb431e   \n",
       "4  303efcb8c5b2c65281962e16039caf0a18acda73; 89d8...   \n",
       "\n",
       "                                               title  \\\n",
       "0  Backbone reconstruction in temporal networks f...   \n",
       "1  Towards biomarkers for outcomes after pancreat...   \n",
       "2  Steroid treatment in patients with acute respi...   \n",
       "3  A global analysis on the effect of temperature...   \n",
       "4  Steroid-associated osteonecrosis: Epidemiology...   \n",
       "\n",
       "                                            abstract publish_time  \\\n",
       "0  Many complex systems are characterized by time...   2019-10-15   \n",
       "1  INTRODUCTION: Ageing-related processes such as...   2020-12-17   \n",
       "2  PURPOSE: Although the most recent systematic r...   2021-11-10   \n",
       "3  We performed a global analysis with data from ...   2020-10-06   \n",
       "4  Steroid-associated osteonecrosis (SAON) is a c...   2015-01-13   \n",
       "\n",
       "                                             authors  \\\n",
       "0  Surano, Francesco Vincenzo; Bongiorno, Christi...   \n",
       "1  Henze, Larissa; Walter, Uwe; Murua Escobar, Hu...   \n",
       "2  Yoshihiro, Shodai; Hongo, Takashi; Ohki, Shing...   \n",
       "3  Rahman, Mizanur; Islam, Mahmuda; Shimanto, Meh...   \n",
       "4  Xie, Xin-Hui; Wang, Xin-Luan; Yang, Hui-Lin; Z...   \n",
       "\n",
       "                                                 url  \\\n",
       "0  https://www.ncbi.nlm.nih.gov/pmc/articles/PMC7...   \n",
       "1  https://www.ncbi.nlm.nih.gov/pubmed/33334830/;...   \n",
       "2  https://www.ncbi.nlm.nih.gov/pmc/articles/PMC8...   \n",
       "3  https://doi.org/10.1007/s10668-020-01028-x; ht...   \n",
       "4  https://www.sciencedirect.com/science/article/...   \n",
       "\n",
       "                                           body_text  \n",
       "0  In the past few decades, network science has e...  \n",
       "1  The incidence of pancreatic cancer is increasi...  \n",
       "2  Acute respiratory distress syndrome (ARDS) is ...  \n",
       "3  COVID-19 has become a global concern since the...  \n",
       "4  Osteonecrosis (ON) is a disabling clinical dis...  "
      ]
     },
     "execution_count": 25,
     "metadata": {},
     "output_type": "execute_result"
    }
   ],
   "source": [
    "df_final.head()"
   ]
  },
  {
   "cell_type": "code",
   "execution_count": 26,
   "metadata": {},
   "outputs": [
    {
     "data": {
      "text/plain": [
       "sha                0\n",
       "title              0\n",
       "abstract        5710\n",
       "publish_time       0\n",
       "authors          454\n",
       "url                0\n",
       "body_text          0\n",
       "dtype: int64"
      ]
     },
     "execution_count": 26,
     "metadata": {},
     "output_type": "execute_result"
    }
   ],
   "source": [
    "df_final = df_final.dropna(axis=0,subset=['body_text', 'title'])\n",
    "df_final.isnull().sum()"
   ]
  },
  {
   "cell_type": "code",
   "execution_count": 27,
   "metadata": {},
   "outputs": [
    {
     "data": {
      "text/plain": [
       "(49805, 7)"
      ]
     },
     "execution_count": 27,
     "metadata": {},
     "output_type": "execute_result"
    }
   ],
   "source": [
    "df_final.shape"
   ]
  },
  {
   "cell_type": "markdown",
   "metadata": {},
   "source": [
    "# GUARDANDO DATOS FILTRADOS"
   ]
  },
  {
   "cell_type": "code",
   "execution_count": 28,
   "metadata": {},
   "outputs": [],
   "source": [
    "df_final.to_csv('FINAL_CORD_DATA2.csv', index=False)"
   ]
  },
  {
   "cell_type": "markdown",
   "metadata": {},
   "source": [
    " # Análisis Exploratorio de Datos - Data Analysis (EDA) "
   ]
  },
  {
   "cell_type": "code",
   "execution_count": 29,
   "metadata": {},
   "outputs": [
    {
     "name": "stdout",
     "output_type": "stream",
     "text": [
      "Requirement already satisfied: seaborn==0.11.1 in c:\\users\\alexis\\desktop\\sistemaqabert\\data\\lib\\site-packages (0.11.1)\n",
      "Requirement already satisfied: matplotlib>=2.2 in c:\\users\\alexis\\desktop\\sistemaqabert\\data\\lib\\site-packages (from seaborn==0.11.1) (3.5.1)\n",
      "Requirement already satisfied: numpy>=1.15 in c:\\users\\alexis\\desktop\\sistemaqabert\\data\\lib\\site-packages (from seaborn==0.11.1) (1.21.1)\n",
      "Requirement already satisfied: scipy>=1.0 in c:\\users\\alexis\\desktop\\sistemaqabert\\data\\lib\\site-packages (from seaborn==0.11.1) (1.7.3)\n",
      "Requirement already satisfied: pandas>=0.23 in c:\\users\\alexis\\desktop\\sistemaqabert\\data\\lib\\site-packages (from seaborn==0.11.1) (1.3.1)\n",
      "Requirement already satisfied: python-dateutil>=2.7 in c:\\users\\alexis\\desktop\\sistemaqabert\\data\\lib\\site-packages (from matplotlib>=2.2->seaborn==0.11.1) (2.8.2)\n",
      "Requirement already satisfied: pyparsing>=2.2.1 in c:\\users\\alexis\\desktop\\sistemaqabert\\data\\lib\\site-packages (from matplotlib>=2.2->seaborn==0.11.1) (3.0.7)\n",
      "Requirement already satisfied: pillow>=6.2.0 in c:\\users\\alexis\\desktop\\sistemaqabert\\data\\lib\\site-packages (from matplotlib>=2.2->seaborn==0.11.1) (9.0.1)\n",
      "Requirement already satisfied: kiwisolver>=1.0.1 in c:\\users\\alexis\\desktop\\sistemaqabert\\data\\lib\\site-packages (from matplotlib>=2.2->seaborn==0.11.1) (1.3.2)\n",
      "Requirement already satisfied: cycler>=0.10 in c:\\users\\alexis\\desktop\\sistemaqabert\\data\\lib\\site-packages (from matplotlib>=2.2->seaborn==0.11.1) (0.11.0)\n",
      "Requirement already satisfied: fonttools>=4.22.0 in c:\\users\\alexis\\desktop\\sistemaqabert\\data\\lib\\site-packages (from matplotlib>=2.2->seaborn==0.11.1) (4.29.1)\n",
      "Requirement already satisfied: packaging>=20.0 in c:\\users\\alexis\\desktop\\sistemaqabert\\data\\lib\\site-packages (from matplotlib>=2.2->seaborn==0.11.1) (21.3)\n",
      "Requirement already satisfied: pytz>=2017.3 in c:\\users\\alexis\\desktop\\sistemaqabert\\data\\lib\\site-packages (from pandas>=0.23->seaborn==0.11.1) (2021.3)\n",
      "Requirement already satisfied: six>=1.5 in c:\\users\\alexis\\desktop\\sistemaqabert\\data\\lib\\site-packages (from python-dateutil>=2.7->matplotlib>=2.2->seaborn==0.11.1) (1.16.0)\n"
     ]
    }
   ],
   "source": [
    "!pip install seaborn==0.11.1"
   ]
  },
  {
   "cell_type": "code",
   "execution_count": 1,
   "metadata": {},
   "outputs": [],
   "source": [
    "import seaborn as sns\n",
    "sns.set_theme(style=\"darkgrid\")\n",
    "import calendar"
   ]
  },
  {
   "cell_type": "markdown",
   "metadata": {},
   "source": [
    "Revisión de los datos finales "
   ]
  },
  {
   "cell_type": "code",
   "execution_count": 3,
   "metadata": {},
   "outputs": [],
   "source": [
    "#Inspect data\n",
    "def inspect_data(data):\n",
    "    return pd.DataFrame(\n",
    "        {\n",
    "            \"Data Type\": data.dtypes,\n",
    "            \"No of levels\": data.apply(lambda x:len(x.unique()), axis=0),\n",
    "            \"levels\": data.apply(lambda x:x.unique(), axis=0),\n",
    "            \"qtd_null\": data.apply(lambda x: x.isnull().sum(), axis=0),\n",
    "            \"pct_null\": data.apply(lambda x: x.isnull().sum() * 100 / len(x))\n",
    "        }\n",
    "    )"
   ]
  },
  {
   "cell_type": "code",
   "execution_count": 4,
   "metadata": {},
   "outputs": [
    {
     "ename": "NameError",
     "evalue": "name 'df_final' is not defined",
     "output_type": "error",
     "traceback": [
      "\u001b[1;31m---------------------------------------------------------------------------\u001b[0m",
      "\u001b[1;31mNameError\u001b[0m                                 Traceback (most recent call last)",
      "\u001b[1;32m~\\AppData\\Local\\Temp\\ipykernel_14532\\1116991323.py\u001b[0m in \u001b[0;36m<module>\u001b[1;34m\u001b[0m\n\u001b[1;32m----> 1\u001b[1;33m \u001b[0minspect_data\u001b[0m\u001b[1;33m(\u001b[0m\u001b[0mdf_final\u001b[0m\u001b[1;33m)\u001b[0m\u001b[1;33m\u001b[0m\u001b[1;33m\u001b[0m\u001b[0m\n\u001b[0m",
      "\u001b[1;31mNameError\u001b[0m: name 'df_final' is not defined"
     ]
    }
   ],
   "source": [
    "inspect_data(df_final)"
   ]
  },
  {
   "cell_type": "code",
   "execution_count": 34,
   "metadata": {},
   "outputs": [],
   "source": [
    "df_final['publish_time'] = pd.to_datetime(df_final['publish_time'])"
   ]
  },
  {
   "cell_type": "code",
   "execution_count": 35,
   "metadata": {},
   "outputs": [],
   "source": [
    "df_final['publish_year'] =  df_final['publish_time'].dt.year\n",
    "df_final['publish_month'] =  df_final['publish_time'].dt.month\n",
    "df_final['publish_day'] =  df_final['publish_time'].dt.day"
   ]
  },
  {
   "cell_type": "code",
   "execution_count": 36,
   "metadata": {},
   "outputs": [
    {
     "data": {
      "text/plain": [
       "55"
      ]
     },
     "execution_count": 36,
     "metadata": {},
     "output_type": "execute_result"
    }
   ],
   "source": [
    "df_final['publish_year'].nunique()"
   ]
  },
  {
   "cell_type": "code",
   "execution_count": 37,
   "metadata": {},
   "outputs": [
    {
     "data": {
      "text/plain": [
       "1955"
      ]
     },
     "execution_count": 37,
     "metadata": {},
     "output_type": "execute_result"
    }
   ],
   "source": [
    "df_final['publish_year'].min()"
   ]
  },
  {
   "cell_type": "code",
   "execution_count": null,
   "metadata": {},
   "outputs": [],
   "source": [
    "df_final['publish_year'].max()"
   ]
  },
  {
   "cell_type": "code",
   "execution_count": null,
   "metadata": {},
   "outputs": [],
   "source": [
    "# Nº de artículos publicados en los últimos años\n",
    "sns.countplot(x=\"publish_year\", data=df_final[df_final['publish_year'].isin([2018, 2019,2020,2021, 2022])])"
   ]
  },
  {
   "cell_type": "code",
   "execution_count": null,
   "metadata": {},
   "outputs": [],
   "source": [
    "#Distribución por meses de los trabajos publicados\n",
    "sns.countplot(x=\"publish_month\", data=df_final)"
   ]
  },
  {
   "cell_type": "code",
   "execution_count": null,
   "metadata": {},
   "outputs": [],
   "source": [
    "df_final['publish_month'] = df_final['publish_month'].apply(lambda x : calendar.month_abbr[x])"
   ]
  },
  {
   "cell_type": "code",
   "execution_count": null,
   "metadata": {},
   "outputs": [],
   "source": [
    "sns.countplot(x=\"publish_month\", data=df_final)"
   ]
  },
  {
   "cell_type": "code",
   "execution_count": null,
   "metadata": {},
   "outputs": [],
   "source": [
    "#Comprobación del % de trabajos publicados en tiempos recientes frente a años anteriores\n",
    "df_final['in_covid_time'] = np.where(df_final['publish_year'].isin([2019,2020,2021]), 1, 0)\n",
    "sns.countplot(df_final['in_covid_time'])"
   ]
  },
  {
   "cell_type": "markdown",
   "metadata": {},
   "source": [
    "**Revisión de nubes del palabras**"
   ]
  },
  {
   "cell_type": "code",
   "execution_count": null,
   "metadata": {},
   "outputs": [],
   "source": [
    "!pip3 install wordcloud"
   ]
  },
  {
   "cell_type": "code",
   "execution_count": null,
   "metadata": {},
   "outputs": [],
   "source": [
    "from wordcloud import WordCloud, STOPWORDS \n",
    "import re\n",
    "import string\n",
    "import matplotlib.pyplot as plt\n",
    "%matplotlib inline"
   ]
  },
  {
   "cell_type": "code",
   "execution_count": null,
   "metadata": {},
   "outputs": [],
   "source": [
    "def plot_word_cloud(wordcloud):\n",
    "    plt.figure(figsize=(10, 10))\n",
    "    plt.imshow(wordcloud) \n",
    "    plt.axis(\"off\");"
   ]
  },
  {
   "cell_type": "code",
   "execution_count": null,
   "metadata": {},
   "outputs": [],
   "source": [
    "def remove_special_charac_and_punctuations(text) :\n",
    "# define el patrón a mantener\n",
    "  pattern = r'[^a-zA-z0-9\\'\\s]' \n",
    "  txt = re.sub(pattern, '', text)\n",
    "  txt = ''.join([c for c in txt if c not in string.punctuation])\n",
    "  return  txt"
   ]
  },
  {
   "cell_type": "code",
   "execution_count": null,
   "metadata": {},
   "outputs": [],
   "source": [
    "def concat_all_sentences(sents):\n",
    "   all_tokens = ''\n",
    "   for text in sents:\n",
    "        tx = str(text).lower().strip()\n",
    "        tx = \" \".join(tx.split())\n",
    "        all_tokens += tx + \" \"\n",
    "   return all_tokens  "
   ]
  },
  {
   "cell_type": "code",
   "execution_count": null,
   "metadata": {},
   "outputs": [],
   "source": [
    "cleaned_titles = df_final.loc[df_final.title.notnull(), 'title'].apply(remove_special_charac_and_punctuations)"
   ]
  },
  {
   "cell_type": "code",
   "execution_count": null,
   "metadata": {},
   "outputs": [],
   "source": [
    "cleaned_abstracts = df_final.loc[df_final.abstract.notnull(), 'abstract'].apply(remove_special_charac_and_punctuations)"
   ]
  },
  {
   "cell_type": "code",
   "execution_count": null,
   "metadata": {},
   "outputs": [],
   "source": [
    "title_tokens = concat_all_sentences(cleaned_titles)"
   ]
  },
  {
   "cell_type": "code",
   "execution_count": null,
   "metadata": {},
   "outputs": [],
   "source": [
    "abstract_tokens = concat_all_sentences(cleaned_abstracts)"
   ]
  },
  {
   "cell_type": "code",
   "execution_count": null,
   "metadata": {},
   "outputs": [],
   "source": [
    "title_tokens"
   ]
  },
  {
   "cell_type": "code",
   "execution_count": null,
   "metadata": {},
   "outputs": [],
   "source": [
    "abstract_tokens"
   ]
  },
  {
   "cell_type": "code",
   "execution_count": null,
   "metadata": {},
   "outputs": [],
   "source": [
    "# Observando la nube de palabras de los tokens del título\n",
    "title_wordcloud = WordCloud(width = 500, height = 500,random_state=10).generate(title_tokens)\n",
    "plot_word_cloud(title_wordcloud)"
   ]
  },
  {
   "cell_type": "markdown",
   "metadata": {},
   "source": [
    "## Modelización de temas"
   ]
  },
  {
   "cell_type": "code",
   "execution_count": null,
   "metadata": {},
   "outputs": [],
   "source": [
    "!pip install gensim==3.8.3"
   ]
  },
  {
   "cell_type": "code",
   "execution_count": null,
   "metadata": {},
   "outputs": [],
   "source": [
    "!pip install spacy"
   ]
  },
  {
   "cell_type": "code",
   "execution_count": null,
   "metadata": {},
   "outputs": [],
   "source": [
    "!python -m spacy download en_core_web_sm"
   ]
  },
  {
   "cell_type": "code",
   "execution_count": null,
   "metadata": {},
   "outputs": [],
   "source": [
    "import gensim, spacy, logging, warnings\n",
    "import gensim.corpora as corpora\n",
    "from gensim.utils import lemmatize, simple_preprocess\n",
    "from gensim.models import CoherenceModel"
   ]
  },
  {
   "cell_type": "code",
   "execution_count": null,
   "metadata": {},
   "outputs": [],
   "source": [
    "abstracts = cleaned_abstracts.values.tolist()"
   ]
  },
  {
   "cell_type": "code",
   "execution_count": null,
   "metadata": {},
   "outputs": [],
   "source": [
    "# simple_preprocess of genism: elimina los caracteres especiales, los números y los convierte en minúsculas\n",
    "gensim.utils.simple_preprocess(\"12 happy today @# '' '\\n'\", deacc=True) "
   ]
  },
  {
   "cell_type": "code",
   "execution_count": null,
   "metadata": {},
   "outputs": [],
   "source": [
    "def token_builder(sentences) :\n",
    "   for sent in sentences:     \n",
    "        sent = gensim.utils.simple_preprocess(str(sent), deacc=True) \n",
    "        yield(sent)  \n"
   ]
  },
  {
   "cell_type": "code",
   "execution_count": null,
   "metadata": {},
   "outputs": [],
   "source": [
    "# Construcción de tokens abstractos usando token_builder\n",
    "abstract_tokens = list(token_builder(abstracts))"
   ]
  },
  {
   "cell_type": "code",
   "execution_count": null,
   "metadata": {},
   "outputs": [],
   "source": [
    "# Construcción de los modelos de bigramas y trigramas\n",
    "bigram = gensim.models.Phrases(abstract_tokens, min_count=3, threshold=50) # higher threshold fewer phrases.\n",
    "trigram = gensim.models.Phrases(bigram[abstract_tokens], threshold=50)  \n",
    "bigram_mod = gensim.models.phrases.Phraser(bigram)\n",
    "trigram_mod = gensim.models.phrases.Phraser(trigram)"
   ]
  },
  {
   "cell_type": "code",
   "execution_count": null,
   "metadata": {},
   "outputs": [],
   "source": [
    "!pip install nltk"
   ]
  },
  {
   "cell_type": "code",
   "execution_count": null,
   "metadata": {},
   "outputs": [],
   "source": [
    "import nltk as nltk\n",
    "nltk.download('stopwords')\n",
    "nltk.download('punkt')\n",
    "from nltk.corpus import stopwords"
   ]
  },
  {
   "cell_type": "code",
   "execution_count": null,
   "metadata": {},
   "outputs": [],
   "source": [
    "stop_words = stopwords.words('english')\n",
    "stop_words.extend(['from', 'subject', 're', 'edu', 'use', 'not', 'would', 'say', 'could', '_', 'be', 'know', 'good', 'go', 'get', 'do', 'done', 'try', 'many', 'some', 'nice', 'thank', 'think', 'see', 'rather', 'easy', 'easily', 'lot', 'lack', 'make', 'want', 'seem', 'run', 'need', 'even', 'right', 'line', 'even', 'also', 'may', 'take', 'come'])"
   ]
  },
  {
   "cell_type": "code",
   "execution_count": null,
   "metadata": {},
   "outputs": [],
   "source": [
    "def process_docs(texts, stop_words=stop_words, allowed_postags=['NOUN', 'ADJ', 'VERB', 'ADV']):\n",
    "    texts = [[word for word in simple_preprocess(str(doc)) if word not in stop_words] for doc in texts]\n",
    "    texts = [bigram_mod[doc] for doc in texts]\n",
    "    texts = [trigram_mod[bigram_mod[doc]] for doc in texts]\n",
    "    texts_out = []\n",
    "    # nlp = spacy.load('en', disable=['parser', 'ner'])\n",
    "    nlp = spacy.load(\"en_core_web_sm\")\n",
    "    for sent in texts:\n",
    "        doc = nlp(\" \".join(sent)) \n",
    "        texts_out.append([token.lemma_ for token in doc if token.pos_ in allowed_postags])\n",
    "    # Eliminar las palabras de parada una vez más después de la lematización   \n",
    "    texts_out = [[word for word in simple_preprocess(str(doc)) if word not in stop_words] for doc in texts_out] \n",
    "    return texts_out"
   ]
  },
  {
   "cell_type": "code",
   "execution_count": null,
   "metadata": {},
   "outputs": [],
   "source": [
    "abstracts_data = process_docs(abstract_tokens)"
   ]
  },
  {
   "cell_type": "code",
   "execution_count": null,
   "metadata": {},
   "outputs": [],
   "source": [
    "# Creación de un Diccionario de datos\n",
    "id2word = corpora.Dictionary(abstracts_data)"
   ]
  },
  {
   "cell_type": "code",
   "execution_count": null,
   "metadata": {},
   "outputs": [],
   "source": [
    "print(id2word)"
   ]
  },
  {
   "cell_type": "code",
   "execution_count": null,
   "metadata": {},
   "outputs": [],
   "source": [
    "print(id2word.token2id)"
   ]
  },
  {
   "cell_type": "code",
   "execution_count": null,
   "metadata": {},
   "outputs": [],
   "source": [
    "# Creación del Corpus: Term Document Frequency\n",
    "corpus = [id2word.doc2bow(text) for text in abstracts_data]"
   ]
  },
  {
   "cell_type": "code",
   "execution_count": null,
   "metadata": {},
   "outputs": [],
   "source": [
    "# Construcción del modelo LDA \n",
    "lda_model = gensim.models.ldamodel.LdaModel(corpus=corpus,\n",
    "                                           id2word=id2word,\n",
    "                                           num_topics=2, \n",
    "                                           random_state=100,\n",
    "                                           update_every=1,\n",
    "                                           chunksize=10,\n",
    "                                           passes=10,\n",
    "                                           alpha='symmetric',\n",
    "                                           iterations=100,\n",
    "                                           per_word_topics=True)"
   ]
  },
  {
   "cell_type": "code",
   "execution_count": null,
   "metadata": {},
   "outputs": [],
   "source": [
    "print(lda_model.print_topics())"
   ]
  },
  {
   "cell_type": "code",
   "execution_count": null,
   "metadata": {},
   "outputs": [],
   "source": [
    "import matplotlib.pyplot as plt"
   ]
  },
  {
   "cell_type": "code",
   "execution_count": null,
   "metadata": {},
   "outputs": [],
   "source": [
    "import matplotlib.colors as mcolors\n",
    "\n",
    "cols = [color for name, color in mcolors.TABLEAU_COLORS.items()]  # more colors: 'mcolors.XKCD_COLORS'\n",
    "\n",
    "cloud = WordCloud(stopwords=stop_words,\n",
    "                  background_color='white',\n",
    "                  width=2500,\n",
    "                  height=1800,\n",
    "                  max_words=10,\n",
    "                  colormap='tab10',\n",
    "                  color_func=lambda *args, **kwargs: cols[i],\n",
    "                  prefer_horizontal=1.0)\n",
    "\n",
    "topics = lda_model.show_topics(formatted=False)\n",
    "\n",
    "for i in range(0,2):\n",
    "    topic_words = dict(topics[i][1])\n",
    "    cloud.generate_from_frequencies(topic_words, max_font_size=300)\n",
    "    plt.gca().imshow(cloud)\n",
    "    plt.gca().set_title('Topic ' + str(i), fontdict=dict(size=16))\n",
    "    plt.gca().axis('off')\n",
    "    plt.show()"
   ]
  },
  {
   "cell_type": "code",
   "execution_count": null,
   "metadata": {},
   "outputs": [],
   "source": [
    "topics = lda_model.show_topics(formatted=False)"
   ]
  },
  {
   "cell_type": "code",
   "execution_count": null,
   "metadata": {},
   "outputs": [],
   "source": [
    "topics"
   ]
  },
  {
   "cell_type": "code",
   "execution_count": null,
   "metadata": {},
   "outputs": [],
   "source": []
  }
 ],
 "metadata": {
  "interpreter": {
   "hash": "e5dd956a4ad4c46c2f9ced60f082cc4c7651c3ef3a0b5ceb86a5d8b9a106ed9f"
  },
  "kernelspec": {
   "display_name": "Python 3.7.9 ('Data': venv)",
   "language": "python",
   "name": "python3"
  },
  "language_info": {
   "codemirror_mode": {
    "name": "ipython",
    "version": 3
   },
   "file_extension": ".py",
   "mimetype": "text/x-python",
   "name": "python",
   "nbconvert_exporter": "python",
   "pygments_lexer": "ipython3",
   "version": "3.7.9"
  },
  "orig_nbformat": 4
 },
 "nbformat": 4,
 "nbformat_minor": 2
}
